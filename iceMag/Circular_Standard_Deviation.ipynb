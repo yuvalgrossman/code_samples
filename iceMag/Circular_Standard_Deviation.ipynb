{
 "cells": [
  {
   "cell_type": "code",
   "execution_count": 1,
   "metadata": {
    "colab": {},
    "colab_type": "code",
    "collapsed": true,
    "id": "P62skAWNR2_n"
   },
   "outputs": [],
   "source": [
    "import numpy as np\n",
    "import pandas as pd\n",
    "import matplotlib.pyplot as plt\n",
    "import numpy.matlib\n",
    "%matplotlib inline\n",
    "from numpy.linalg import norm"
   ]
  },
  {
   "cell_type": "code",
   "execution_count": 212,
   "metadata": {
    "collapsed": true
   },
   "outputs": [],
   "source": [
    "filepath = '../ICRM_2_A/Batch-2-AF/myfiles/icrmMi/'\n",
    "filepath = filepath.replace('/','\\\\')\n",
    "# !dir $filepath"
   ]
  },
  {
   "cell_type": "code",
   "execution_count": 213,
   "metadata": {
    "colab": {
     "base_uri": "https://localhost:8080/",
     "height": 77
    },
    "colab_type": "code",
    "id": "qXttl7FtSI77",
    "outputId": "93ad9572-e86b-4962-c1cf-f5ad2ef6d71a"
   },
   "outputs": [
    {
     "data": {
      "text/html": [
       "<div>\n",
       "<table border=\"1\" class=\"dataframe\">\n",
       "  <thead>\n",
       "    <tr style=\"text-align: right;\">\n",
       "      <th></th>\n",
       "      <th></th>\n",
       "      <th>z</th>\n",
       "      <th>dz</th>\n",
       "      <th>x</th>\n",
       "      <th>dx</th>\n",
       "      <th>y</th>\n",
       "      <th>dy</th>\n",
       "      <th>dec</th>\n",
       "      <th>inc</th>\n",
       "      <th>M</th>\n",
       "      <th>CSD</th>\n",
       "    </tr>\n",
       "  </thead>\n",
       "  <tbody>\n",
       "    <tr>\n",
       "      <th>2</th>\n",
       "      <td>NRM</td>\n",
       "      <td>0.000121</td>\n",
       "      <td>0.000017</td>\n",
       "      <td>0.00288</td>\n",
       "      <td>0.000165</td>\n",
       "      <td>0.001528</td>\n",
       "      <td>0.000108</td>\n",
       "      <td>27.943774</td>\n",
       "      <td>2.124903</td>\n",
       "      <td>0.003263</td>\n",
       "      <td>2.937828</td>\n",
       "    </tr>\n",
       "  </tbody>\n",
       "</table>\n",
       "</div>"
      ],
      "text/plain": [
       "               z        dz        x        dx         y        dy        dec  \\\n",
       "2  NRM  0.000121  0.000017  0.00288  0.000165  0.001528  0.000108  27.943774   \n",
       "\n",
       "        inc         M       CSD  \n",
       "2  2.124903  0.003263  2.937828  "
      ]
     },
     "execution_count": 213,
     "metadata": {},
     "output_type": "execute_result"
    }
   ],
   "source": [
    "data = pd.read_csv(filepath+'icrmMi2.rmg', header=1).iloc[:,[0,5,6,9,10,11,12,14,15,16,17]]\n",
    "data = data[data.iloc[:, 0]=='NRM']\n",
    "data.columns=['','z','dz','x','dx','y','dy','dec','inc','M','CSD']\n",
    "data.head()"
   ]
  },
  {
   "cell_type": "markdown",
   "metadata": {
    "colab_type": "text",
    "id": "99MgA7rE2VHH"
   },
   "source": [
    "# Circular Standard Deviation (CSD) calculation\n",
    "(based on Butler Chap.6, p.105-108, and Tauxe 11.2.1)\n",
    "\n",
    "Given $N$ measured samples, we want to estimate the error in the mean direction. \n",
    "The first assumption is that the directions sampled from a Fisher distribution with precision parameter $\\kappa$ approximated as: \n",
    "\n",
    "$ \\kappa \\approx k = (N-1)/(N-R)$\n",
    "\n",
    "where $R$ is the norm of the vector composed of the sum of all samples in each component. So as $R$ goes to $N$, the precision increases. The approximated CSD is: \n",
    "\n",
    " $S_{aprx} = 81/\\sqrt k$\n",
    "\n",
    "A rigorous definition is just the square root of the variance of the angles between the sampled directions and the mean direction: \n",
    "\n",
    "$S = \\sqrt(\\Sigma(\\Delta_i^2)/(N-1))$\n",
    "\n",
    "And an angle between two vectors $\\vec{A}$ and $\\vec{B}$ is: \n",
    "\n",
    "$\\Delta = cos^{-1}(\\frac{\\vec{A}\\cdot \\vec{B}}{|A||B|})$\n",
    "\n",
    "Either way in order to calculate CSD we need the original measurements in all components, but we don't have them. \n",
    "We do have the mean and standard deviation in each direction, and we can simulate $N=4$ samples to calculate CSD in both ways. \n",
    "Here we need to assume some distribution of the measurements in each component. We chose normal distribution as a basic assumption because we measure a natural quantity (Cartesian coordinates). "
   ]
  },
  {
   "cell_type": "code",
   "execution_count": 203,
   "metadata": {
    "colab": {
     "base_uri": "https://localhost:8080/",
     "height": 50
    },
    "colab_type": "code",
    "id": "Zsfl5bgqVV1A",
    "outputId": "74b8bcbe-3d51-4d1a-d0fe-245f37e86352"
   },
   "outputs": [
    {
     "name": "stdout",
     "output_type": "stream",
     "text": [
      "Approximated CSD: 2.0859\n",
      "Calculated CSD: 2.2889\n"
     ]
    }
   ],
   "source": [
    "def cal_CSD(N=4, plotflag=False, verbose=True):\n",
    "  r = data[['x','y','z']].values \n",
    "  dr= data[['dx','dy','dz']].values\n",
    "\n",
    "  # simulate N samples: \n",
    "  full_r = (np.random.randn(N,3)*dr+r);\n",
    "  full_r = full_r/np.matlib.repmat(norm(full_r,axis=1),3,1).T\n",
    "\n",
    "  R_vec = full_r.sum(axis=0)\n",
    "  R = np.linalg.norm(R_vec)\n",
    "  k = (N-1)/(N-R)\n",
    "\n",
    "  # estimation for S: \n",
    "  S_aprx = 81/np.sqrt(k);\n",
    "  if verbose:\n",
    "    print('Approximated CSD: {:2.5}'.format(S_aprx))\n",
    "\n",
    "  # rigorous calculation of S: \n",
    "  # calculate Delta for each sampled direction, which is the angular deviation from the mean:\n",
    "  ang_dev = np.degrees(np.arccos(np.dot(full_r,r.T).T/(norm(full_r,axis=1)*norm(r))).T);\n",
    "  S = np.sqrt(sum(ang_dev**2)/(N-1))\n",
    "  if verbose:\n",
    "    print('Calculated CSD: {:2.5}'.format(S[0]))\n",
    "\n",
    "  if plotflag:\n",
    "    plt.hist(ang_dev, bins=1000)\n",
    "    plt.xlabel('Deviation from the mean direction');\n",
    "\n",
    "    theta_vec=np.arange(0.001,np.pi/20,0.001)\n",
    "    print('k = {}'.format(k))\n",
    "    k = 700\n",
    "    Fisher1 = k/(2*np.sinh(k))*np.exp(k*np.cos(theta_vec))*np.sin(theta_vec)\n",
    "    k = 500\n",
    "    Fisher2 = k/(2*np.sinh(k))*np.exp(k*np.cos(theta_vec))*np.sin(theta_vec)\n",
    "    k = 100\n",
    "    Fisher3 = k/(2*np.sinh(k))*np.exp(k*np.cos(theta_vec))*np.sin(theta_vec)\n",
    "\n",
    "    h1,=plt.plot(np.degrees(theta_vec),Fisher1)\n",
    "    h2,=plt.plot(np.degrees(theta_vec),Fisher2)\n",
    "    h3,=plt.plot(np.degrees(theta_vec),Fisher3)\n",
    "    plt.legend([h1,h2,h3],['k = 700','k = 500','k = 100']);\n",
    "\n",
    "  return (S_aprx, S[0])\n",
    "\n",
    "cal_CSD(N=4);"
   ]
  },
  {
   "cell_type": "markdown",
   "metadata": {
    "colab_type": "text",
    "id": "-zIdKADbyBeo"
   },
   "source": [
    "Both are in the same order of magnitude, but vary greatly each time we repeat this Monte-Carlo experiment. We can evaluate the precision of these results if we repeat it many times (Bootstrap). \n",
    "Furthermore, we can simulate many more samples and than calculate the CSD: "
   ]
  },
  {
   "cell_type": "code",
   "execution_count": 204,
   "metadata": {
    "colab": {
     "base_uri": "https://localhost:8080/",
     "height": 118
    },
    "colab_type": "code",
    "id": "Oj_yorqUZhgD",
    "outputId": "07ccb647-8e91-4110-c3ca-7b9ad77410ae"
   },
   "outputs": [
    {
     "name": "stdout",
     "output_type": "stream",
     "text": [
      "Approximated CSD: 2.4851\n",
      "Calculated CSD: 2.5055\n",
      "Approximated CSD: 1.9012\n",
      "Calculated CSD: 1.9021\n",
      "Approximated CSD: 1.955\n",
      "Calculated CSD: 1.9563\n"
     ]
    }
   ],
   "source": [
    "cal_CSD(N=10)\n",
    "cal_CSD(N=100)\n",
    "cal_CSD(N=1000);"
   ]
  },
  {
   "cell_type": "markdown",
   "metadata": {
    "colab_type": "text",
    "id": "xbimiTLG0hVx"
   },
   "source": [
    "Seems the approximated getting close to the calculated ones for large $N$. Now lets see if it fits the given CSD?"
   ]
  },
  {
   "cell_type": "code",
   "execution_count": 205,
   "metadata": {
    "colab": {
     "base_uri": "https://localhost:8080/",
     "height": 287
    },
    "colab_type": "code",
    "id": "uIWxjMuvHjIY",
    "outputId": "4d2e4a18-012a-4771-cb37-f0b7f2d196b8"
   },
   "outputs": [
    {
     "data": {
      "image/png": "[encoded data removed]",
      "text/plain": [
       "<matplotlib.figure.Figure at 0xdc54b1cb70>"
      ]
     },
     "metadata": {},
     "output_type": "display_data"
    }
   ],
   "source": [
    "Ns = np.logspace(0.65, 5, num=10, dtype=int)\n",
    "nBS = 50\n",
    "S = np.empty([Ns.shape[0],nBS])\n",
    "S_aprx = np.empty_like(S)\n",
    "for i, N in enumerate(Ns):\n",
    "  for j in range(nBS):\n",
    "    S_aprx[i,j], S[i,j] = cal_CSD(N, verbose=False); \n",
    "plt.semilogx(Ns, np.ones_like(Ns)*data.CSD.values)\n",
    "plt.errorbar(Ns, np.median(S,axis=1), yerr=np.diff(np.quantile(S,[.25,.75],axis=1),axis=0).T)\n",
    "plt.errorbar(Ns, np.median(S_aprx,axis=1), yerr=np.diff(np.quantile(S_aprx,[.25,.75],axis=1),axis=0).T)\n",
    "# plt.semilogx(Ns, np.median(S_aprx,axis=1))\n",
    "\n",
    "plt.xlabel('N')\n",
    "plt.ylabel('CSD')\n",
    "plt.legend(['Given','Calculated','Estimated']);"
   ]
  },
  {
   "cell_type": "markdown",
   "metadata": {
    "colab_type": "text",
    "id": "LMoPZdS78oKd"
   },
   "source": [
    "So the given CSD is with agreement with the interqurtile of the $N=4$, but not for higher $N$, where the confidence is greater. "
   ]
  },
  {
   "cell_type": "markdown",
   "metadata": {
    "colab_type": "text",
    "id": "wGSYg4qO87lp"
   },
   "source": [
    "If we plot the histogram of the deviations from the mean, for large $N$, we reconstruct the PDF of the directions about the mean: "
   ]
  },
  {
   "cell_type": "code",
   "execution_count": 206,
   "metadata": {
    "colab": {
     "base_uri": "https://localhost:8080/",
     "height": 334
    },
    "colab_type": "code",
    "id": "bA97W016ukbT",
    "outputId": "a07c21c7-7e95-47e0-d33f-bd0b1f617dd2",
    "scrolled": true
   },
   "outputs": [
    {
     "name": "stdout",
     "output_type": "stream",
     "text": [
      "Approximated CSD: 2.0323\n",
      "Calculated CSD: 2.034\n",
      "k = 1588.5436921511316\n"
     ]
    },
    {
     "data": {
      "image/png": "[encoded data removed]",
      "text/plain": [
       "<matplotlib.figure.Figure at 0xdc54ff4e48>"
      ]
     },
     "metadata": {},
     "output_type": "display_data"
    }
   ],
   "source": [
    "cal_CSD(N=10000, plotflag=True);"
   ]
  },
  {
   "cell_type": "markdown",
   "metadata": {
    "colab_type": "text",
    "id": "6bUhw8yX9pnW"
   },
   "source": [
    "To me it looks like the Fisher Distribution, but I could not reconstruct it with the expected $k$ because it goes like exp(k) and here k is about 1000. But for smaller values of k it seems like it getting closer to the experimental PDF that we got, when we assumed x,y,z are normaly distributed! \n"
   ]
  },
  {
   "cell_type": "markdown",
   "metadata": {
    "colab": {},
    "colab_type": "code",
    "id": "4Sp50LDB-041"
   },
   "source": [
    "# Calculation of Errors of Angles\n",
    "The transformations from Cartesian coordinates to (Magnitude, declination, inclination) are: \n",
    "\n",
    "$Mag = \\sqrt(x^2+y^2+z^2)$\n",
    "\n",
    "$dec = arctan(y/x)$\n",
    "\n",
    "$inc = arcsin(z/Mag)$\n",
    "\n",
    "In the literature the error in the inclination is taken as the CSD, $S$, and the error in the declination is: \n",
    "\n",
    "$sin(\\Delta D) = \\frac{sin(S)}{cos(inc)}$\n",
    "\n",
    "We take different approach and try to evaluate the error by bootsrap. Assuming x,y,z, are normally distributed with the measured mean and the reported std, we simulate $N$ measurements, and applying the transformations. We then evaluate the error as the standard deviation of the distributions: "
   ]
  },
  {
   "cell_type": "code",
   "execution_count": 207,
   "metadata": {
    "scrolled": true
   },
   "outputs": [
    {
     "name": "stdout",
     "output_type": "stream",
     "text": [
      "Magnitude=0.000548+/-2.5e-05\n",
      "Deviation between measured and simulated: 0.000, relative: 0.001\n",
      "Reported value: 0.000548\n",
      "\n",
      "Inclination=4.25+/-0.398\n",
      "Deviation between measured and simulated: 0.006, relative: 0.001\n",
      "Reported value: 4.24+/-2.8 (CSD)\n",
      "Calculated CSD: 2.02\n",
      "\n",
      "Declination=31.0+/-1.97\n",
      "Deviation between measured and simulated: 0.043, relative: 0.001\n",
      "Reported value: 30.9+/-0.0489 (Delta D formula)\n",
      "Calculated Delta D (formula): 0.0354\n"
     ]
    },
    {
     "data": {
      "image/png": "[encoded data removed]",
      "text/plain": [
       "<matplotlib.figure.Figure at 0xdc5522d860>"
      ]
     },
     "metadata": {},
     "output_type": "display_data"
    }
   ],
   "source": [
    "N=100_000\n",
    "r = data[['x','y','z']].values\n",
    "dr= data[['dx','dy','dz']].values\n",
    "  # simulate N samples: \n",
    "R = (np.random.randn(N,3)*dr+r);\n",
    "X = R[:,0]; Y = R[:,1]; Z = R[:,2]\n",
    "\n",
    "def cart2mag_sph(X,Y,Z):\n",
    "    MAG = np.sqrt(X**2 + Y**2 + Z**2)\n",
    "    DEC = np.degrees(np.arctan2(Y,X))\n",
    "    INC = np.degrees(np.arcsin(Z/MAG))\n",
    "    return (MAG,DEC,INC)\n",
    "\n",
    "MAG,DEC,INC=cart2mag_sph(X,Y,Z)\n",
    "me_mag,me_dec,me_inc=cart2mag_sph(data.x.values,data.y.values,data.z.values)\n",
    "\n",
    "# full_r = full_r/np.matlib.repmat(np.linalg.norm(full_r,axis=1),3,1).T\n",
    "def hist_with_measures(DS, measured_value, measure):\n",
    "    plt.hist(DS, bins=100)\n",
    "    m=np.mean(DS)\n",
    "    s=np.std(DS)\n",
    "    h1,=plt.plot(np.array([1,1])*m,[0,len(DS)/50],'b')\n",
    "    h2,=plt.plot(np.array([1,1])*(m+s),[0,len(DS)/100],'r')\n",
    "    plt.plot(np.array([1,1])*(m-s),[0,len(DS)/100],'r')\n",
    "    plt.legend([h1,h2],['mean','std'])\n",
    "    plt.title(measure)\n",
    "    print('{}={:2.3}+/-{:2.3}'.format(measure,m,s))\n",
    "    print('Deviation between measured and simulated: {:2.3f}, relative: {:2.3f}'\n",
    "          .format(np.abs(measured_value[0] - m), np.abs(measured_value[0]/m-1)))\n",
    "    \n",
    "        \n",
    "fig = plt.figure(figsize=(15,5))\n",
    "plt.subplot(131); hist_with_measures(MAG, me_mag, 'Magnitude');\n",
    "print('Reported value: {:2.3}'.format(data.M.values[0]))\n",
    "print('')\n",
    "\n",
    "plt.subplot(132); hist_with_measures(INC, me_inc, 'Inclination');\n",
    "print('Reported value: {:2.3}+/-{:2.3} (CSD)'.format(data.inc.values[0],data.CSD.values[0]))\n",
    "C1,C = cal_CSD(N, verbose=False)\n",
    "print('Calculated CSD: {:2.3}'.format(C))\n",
    "print('')\n",
    "\n",
    "\n",
    "plt.subplot(133); hist_with_measures(DEC, me_dec, 'Declination');\n",
    "print('Reported value: {:2.3}+/-{:2.3} (Delta D formula)'.\n",
    "      format(data.dec.values[0], np.arcsin(np.sin(np.radians(data.CSD.values))/np.cos(np.radians(data.inc.values)))[0]))\n",
    "print('Calculated Delta D (formula): {:2.3}'.\n",
    "      format(np.arcsin(np.sin(np.radians(C))/np.cos(np.radians(data.inc.values)))[0]))\n",
    "\n",
    "\n"
   ]
  },
  {
   "cell_type": "markdown",
   "metadata": {},
   "source": [
    "# Angle between expacted (Magnetic field north) and measured directions"
   ]
  },
  {
   "cell_type": "code",
   "execution_count": 217,
   "metadata": {},
   "outputs": [
    {
     "name": "stdout",
     "output_type": "stream",
     "text": [
      "theta=4.75+/-0.935\n",
      "Deviation between measured and simulated: 0.413, relative: 0.087\n"
     ]
    },
    {
     "data": {
      "image/png": "[encoded data removed]",
      "text/plain": [
       "<matplotlib.figure.Figure at 0xdc55c3b9e8>"
      ]
     },
     "metadata": {},
     "output_type": "display_data"
    }
   ],
   "source": [
    "def ang_bet(R1,R2):\n",
    "    '''angle between two vectors R1 and R2\n",
    "    R2 may be a matrix'''\n",
    "    return np.degrees(np.arccos((R1*R2).sum(axis=1)/(norm(R1,axis=1)*norm(R2,axis=1))))\n",
    "\n",
    "R = (np.random.randn(N,3)*dr+r);\n",
    "# b=np.array([[80.17,53.50,-5.33]])\n",
    "# db=np.array([[5.44,3.38,5.96]])\n",
    "b=np.array([[866  ,  500  ,  0]])\n",
    "db=np.array([[7.6245 ,   3.2512  ,  9.4196]])\n",
    "B = (np.random.randn(N,3)*db+b);\n",
    "THETA=ang_bet(B,R)\n",
    "theta=ang_bet(b,r)\n",
    "hist_with_measures(THETA, theta, 'theta')"
   ]
  },
  {
   "cell_type": "code",
   "execution_count": 178,
   "metadata": {},
   "outputs": [
    {
     "name": "stdout",
     "output_type": "stream",
     "text": [
      "(100000,)\n",
      "(5, 3) (5, 3)\n"
     ]
    },
    {
     "data": {
      "text/plain": [
       "(5,)"
      ]
     },
     "execution_count": 178,
     "metadata": {},
     "output_type": "execute_result"
    }
   ],
   "source": [
    "print((THETA).shape)\n",
    "print(R1.shape,R2.shape)\n",
    "np.degrees(np.arccos((R1*R2).sum(axis=1)/(norm(R1)*norm(R2,axis=1)))).shape"
   ]
  },
  {
   "cell_type": "code",
   "execution_count": 218,
   "metadata": {},
   "outputs": [
    {
     "name": "stdout",
     "output_type": "stream",
     "text": [
      "[[4.68872949e-04 2.80826741e-04 4.05239223e-05]]\n",
      "1.6311245720936567\n"
     ]
    },
    {
     "data": {
      "image/png": "[encoded data removed]",
      "text/plain": [
       "<matplotlib.figure.Figure at 0xdc55bd8f28>"
      ]
     },
     "metadata": {},
     "output_type": "display_data"
    }
   ],
   "source": [
    "A=np.random.rand(100,1)*2-1\n",
    "plt.hist(np.degrees(np.arccos(A)))\n",
    "print(r)\n",
    "print(min(THETA))"
   ]
  },
  {
   "cell_type": "code",
   "execution_count": 75,
   "metadata": {},
   "outputs": [
    {
     "data": {
      "text/plain": [
       "array([89.8352768 , 89.8446425 , 89.819002  , ..., 89.82110541,\n",
       "       89.81882872, 89.81697143])"
      ]
     },
     "execution_count": 75,
     "metadata": {},
     "output_type": "execute_result"
    }
   ],
   "source": [
    "ang_bet(B,r)"
   ]
  }
 ],
 "metadata": {
  "colab": {
   "collapsed_sections": [],
   "name": "Circular Standard Deviation.ipynb",
   "provenance": [],
   "version": "0.3.2"
  },
  "kernelspec": {
   "display_name": "Python 3",
   "language": "python",
   "name": "python3"
  },
  "language_info": {
   "codemirror_mode": {
    "name": "ipython",
    "version": 3
   },
   "file_extension": ".py",
   "mimetype": "text/x-python",
   "name": "python",
   "nbconvert_exporter": "python",
   "pygments_lexer": "ipython3",
   "version": "3.6.3"
  }
 },
 "nbformat": 4,
 "nbformat_minor": 1
}
